{
 "cells": [
  {
   "cell_type": "code",
   "execution_count": 7,
   "id": "80e89171",
   "metadata": {},
   "outputs": [
    {
     "name": "stdout",
     "output_type": "stream",
     "text": [
      "Collecting pandas\n",
      "  Downloading pandas-2.3.3-cp313-cp313-win_amd64.whl.metadata (19 kB)\n",
      "Collecting numpy>=1.26.0 (from pandas)\n",
      "  Downloading numpy-2.3.3-cp313-cp313-win_amd64.whl.metadata (60 kB)\n",
      "Requirement already satisfied: python-dateutil>=2.8.2 in c:\\users\\tanay\\appdata\\local\\programs\\python\\python313\\lib\\site-packages (from pandas) (2.9.0.post0)\n",
      "Collecting pytz>=2020.1 (from pandas)\n",
      "  Using cached pytz-2025.2-py2.py3-none-any.whl.metadata (22 kB)\n",
      "Collecting tzdata>=2022.7 (from pandas)\n",
      "  Using cached tzdata-2025.2-py2.py3-none-any.whl.metadata (1.4 kB)\n",
      "Requirement already satisfied: six>=1.5 in c:\\users\\tanay\\appdata\\local\\programs\\python\\python313\\lib\\site-packages (from python-dateutil>=2.8.2->pandas) (1.16.0)\n",
      "Downloading pandas-2.3.3-cp313-cp313-win_amd64.whl (11.0 MB)\n",
      "   ---------------------------------------- 0.0/11.0 MB ? eta -:--:--\n",
      "   -- ------------------------------------- 0.8/11.0 MB 3.8 MB/s eta 0:00:03\n",
      "   --------- ------------------------------ 2.6/11.0 MB 6.7 MB/s eta 0:00:02\n",
      "   ------------------- -------------------- 5.2/11.0 MB 8.7 MB/s eta 0:00:01\n",
      "   ------------------------------ --------- 8.4/11.0 MB 10.6 MB/s eta 0:00:01\n",
      "   ---------------------------------------- 11.0/11.0 MB 10.7 MB/s eta 0:00:00\n",
      "Downloading numpy-2.3.3-cp313-cp313-win_amd64.whl (12.8 MB)\n",
      "   ---------------------------------------- 0.0/12.8 MB ? eta -:--:--\n",
      "   --------- ------------------------------ 3.1/12.8 MB 15.6 MB/s eta 0:00:01\n",
      "   ------------------- -------------------- 6.3/12.8 MB 15.6 MB/s eta 0:00:01\n",
      "   ------------------------------- -------- 10.0/12.8 MB 16.6 MB/s eta 0:00:01\n",
      "   ---------------------------------------- 12.8/12.8 MB 15.6 MB/s eta 0:00:00\n",
      "Using cached pytz-2025.2-py2.py3-none-any.whl (509 kB)\n",
      "Using cached tzdata-2025.2-py2.py3-none-any.whl (347 kB)\n",
      "Installing collected packages: pytz, tzdata, numpy, pandas\n",
      "Successfully installed numpy-2.3.3 pandas-2.3.3 pytz-2025.2 tzdata-2025.2\n"
     ]
    },
    {
     "name": "stderr",
     "output_type": "stream",
     "text": [
      "\n",
      "[notice] A new release of pip is available: 24.2 -> 25.2\n",
      "[notice] To update, run: python.exe -m pip install --upgrade pip\n"
     ]
    }
   ],
   "source": [
    "!py -3.13 -m pip install pandas\n",
    "\n"
   ]
  },
  {
   "cell_type": "code",
   "execution_count": 1,
   "id": "5036e8ab",
   "metadata": {},
   "outputs": [
    {
     "name": "stdout",
     "output_type": "stream",
     "text": [
      "Available tables:               name\n",
      "0         stations\n",
      "1  sqlite_sequence\n",
      "2    daily_weather\n",
      "3       thresholds\n",
      "    weather_id  station_id        date  tmax_f  tmin_f  wspd_mph  \\\n",
      "0            1           1  2023-07-01    95.2    75.1      12.0   \n",
      "1            2           1  2023-07-02    88.5    70.3       8.5   \n",
      "2            3           1  2023-07-03    92.0    71.0      21.3   \n",
      "3            4           1  2023-07-04    85.6    65.2      15.8   \n",
      "4            5           1  2023-07-05    97.1    77.0      10.2   \n",
      "..         ...         ...         ...     ...     ...       ...   \n",
      "91         356           1  2023-12-17     0.0   -23.0       9.0   \n",
      "92         357           1  2023-12-18    24.0     8.0      25.0   \n",
      "93         358           1  2023-12-19    93.0    84.0      17.0   \n",
      "94         367           1  2023-12-28    28.0    17.0      37.0   \n",
      "95         369           1  2023-12-30   -28.0   -39.0      32.0   \n",
      "\n",
      "    precipitation_in  is_extremeWeather  \n",
      "0               0.00                  0  \n",
      "1               0.10                  0  \n",
      "2               0.00                  0  \n",
      "3               0.00                  0  \n",
      "4               0.05                  0  \n",
      "..               ...                ...  \n",
      "91              0.35                  0  \n",
      "92              0.85                  0  \n",
      "93              0.50                  0  \n",
      "94              0.75                  0  \n",
      "95              0.45                  0  \n",
      "\n",
      "[96 rows x 8 columns]\n"
     ]
    }
   ],
   "source": [
    "\n",
    "import sqlite3\n",
    "import pandas as pd\n",
    "\n",
    "# Connect to your database file\n",
    "conn = sqlite3.connect(\"datasets/Weather.db\")\n",
    "\n",
    "# Read table names\n",
    "tables = pd.read_sql_query(\"SELECT name FROM sqlite_master WHERE type='table';\", conn)\n",
    "print(\"Available tables:\", tables)\n",
    "\n",
    "# Example: view Weather table\n",
    "df = pd.read_sql_query(\"SELECT * FROM daily_weather;\", conn)\n",
    "print(df)\n",
    "\n",
    "conn.close()\n",
    "\n",
    "\n",
    "\n",
    "\n",
    "\n"
   ]
  }
 ],
 "metadata": {
  "kernelspec": {
   "display_name": "Python 3",
   "language": "python",
   "name": "python3"
  },
  "language_info": {
   "codemirror_mode": {
    "name": "ipython",
    "version": 3
   },
   "file_extension": ".py",
   "mimetype": "text/x-python",
   "name": "python",
   "nbconvert_exporter": "python",
   "pygments_lexer": "ipython3",
   "version": "3.13.0"
  }
 },
 "nbformat": 4,
 "nbformat_minor": 5
}
